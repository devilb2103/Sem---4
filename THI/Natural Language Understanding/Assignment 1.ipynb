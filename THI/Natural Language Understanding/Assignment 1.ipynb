{
 "cells": [
  {
   "cell_type": "markdown",
   "id": "82e7877d",
   "metadata": {},
   "source": [
    "# Assignmnet 1 (100 points)"
   ]
  },
  {
   "cell_type": "markdown",
   "id": "297b6d20",
   "metadata": {},
   "source": [
    "**Name:** Dev Bhanushali<br>\n",
    "**Email:** deb3962@thi.de<br>\n",
    "**Group:** A <br>\n",
    "**Hours spend *(optional)* : 4 hours 30 min** <br>"
   ]
  },
  {
   "cell_type": "markdown",
   "id": "09f79f88",
   "metadata": {},
   "source": [
    "### Question 1: Zipf’s law *(20 points)*"
   ]
  },
  {
   "cell_type": "markdown",
   "id": "ac4953e4",
   "metadata": {},
   "source": [
    "<p>Verify Zipf’s law on a textual corpus. The jungle book dataset is provided in the \"Datasets and Resources\" file. (You can also use any other dataset of your choice). <p>\n",
    "\n",
    "<p> Provide a list of unique word sorted by their frequency in descending order. Also, give a brief discussion of the findings. You can use matplotlib library to plot the linear curve, and a log-log curve. The usage of other python modules is not permitted.</p>"
   ]
  },
  {
   "cell_type": "markdown",
   "id": "91b4f9f4",
   "metadata": {},
   "source": [
    "imports"
   ]
  },
  {
   "cell_type": "code",
   "execution_count": 26,
   "id": "ea0cc515",
   "metadata": {},
   "outputs": [],
   "source": [
    "import numpy as np\n",
    "import matplotlib.pyplot as plt\n",
    "from sklearn.linear_model import LinearRegression\n",
    "import re\n",
    "import math"
   ]
  },
  {
   "cell_type": "markdown",
   "id": "f6b9a750",
   "metadata": {},
   "source": [
    "data cleaning and simple tokenization"
   ]
  },
  {
   "cell_type": "code",
   "execution_count": 2,
   "id": "5dd863dd",
   "metadata": {},
   "outputs": [
    {
     "name": "stdout",
     "output_type": "stream",
     "text": [
      "All words contain only alphabets\n"
     ]
    }
   ],
   "source": [
    "data = None\n",
    "with open(\"./Datasets and resources/jungle_book.txt\", \"r\") as handle:\n",
    "    data = handle.read()\n",
    "\n",
    "# replace all characters with spaces except spaces and alphabets\n",
    "data = re.sub(r'[^a-zA-Z\\s]', '', data)\n",
    "while(\"\\n\" in data): data = data.replace(\"\\n\", \" \")\n",
    "data = data.split()\n",
    "\n",
    "# small check to make sure all words contain only alphabets\n",
    "outliers = 0\n",
    "for i in data:\n",
    "    if(not(i.isalpha())):\n",
    "        outliers += 1\n",
    "        print(i)\n",
    "\n",
    "print(\"All words contain only alphabets\") if outliers == 0 else print(f\"{outliers} words are cleaned incorrectly\")"
   ]
  },
  {
   "cell_type": "markdown",
   "id": "ba839a4e",
   "metadata": {},
   "source": [
    "extracting word frequencies and rank data"
   ]
  },
  {
   "cell_type": "code",
   "execution_count": 3,
   "id": "2620506f",
   "metadata": {},
   "outputs": [
    {
     "name": "stderr",
     "output_type": "stream",
     "text": [
      "C:\\Users\\devbh\\AppData\\Local\\Temp\\ipykernel_9100\\6361383.py:17: RuntimeWarning: divide by zero encountered in log10\n",
      "  log_ranks = np.log10(ranks)\n"
     ]
    }
   ],
   "source": [
    "# find frequencies and ranks of words\n",
    "freq = {}\n",
    "\n",
    "for i in data:\n",
    "    if(i in freq.keys()):\n",
    "        freq[i] = freq[i] + 1\n",
    "    else:\n",
    "        freq[i] = 1\n",
    "\n",
    "\n",
    "values = list(freq.values())\n",
    "values.sort(reverse=True)\n",
    "ranks = np.array(range(len(values)))\n",
    "\n",
    "# logbase10 transformation to both word-rank and frequencies\n",
    "log_values = np.log10(values)\n",
    "log_ranks = np.log10(ranks)\n",
    "\n",
    "# train x and y for regression curve fitting\n",
    "x = log_ranks.reshape(-1, 1)\n",
    "y = log_values\n",
    "\n",
    "# filter out data that can not be represented in float64 form\n",
    "finite_indices = np.where(np.isfinite(x) & np.isfinite(y))[0]\n",
    "x, y = x[finite_indices], y[finite_indices]\n",
    "\n",
    "# fit a regression line and check for negative slope and resemblance with the plotted log-frequency vs log-rank relation to verify zipfs law\n",
    "model = LinearRegression().fit(x, y)\n",
    "y_pred = model.predict(x)"
   ]
  },
  {
   "cell_type": "markdown",
   "id": "e9ecf561",
   "metadata": {},
   "source": [
    "log-log plot of word rank vs frequency plot"
   ]
  },
  {
   "cell_type": "code",
   "execution_count": 4,
   "id": "588875ee",
   "metadata": {},
   "outputs": [
    {
     "name": "stdout",
     "output_type": "stream",
     "text": [
      "Slope of fitted regression line: -1.1064664118770193\n"
     ]
    },
    {
     "data": {
      "image/png": "[encoded data removed]",
      "text/plain": [
       "<Figure size 640x480 with 1 Axes>"
      ]
     },
     "metadata": {},
     "output_type": "display_data"
    }
   ],
   "source": [
    "plt.plot(log_ranks, log_values)\n",
    "plt.plot(x, y_pred)\n",
    "\n",
    "print(f\"Slope of fitted regression line: {model.coef_[0]}\")"
   ]
  },
  {
   "cell_type": "markdown",
   "id": "daae3bb2",
   "metadata": {},
   "source": [
    "This plot depicts a roughly linear relation between log-frequency and log-rank with a negative slope. With this we have confirmed zipfs law."
   ]
  },
  {
   "cell_type": "markdown",
   "id": "286d65b8",
   "metadata": {},
   "source": [
    "### Question 2: Mutual Information *(30 points)*"
   ]
  },
  {
   "cell_type": "markdown",
   "id": "daa7a1db",
   "metadata": {},
   "source": [
    "Pointwise mutual information quantifies the statistical dependence between events ${x_{t} = w_{1} }$ and ${ x_{t+1} = w_{2}}$. ${C(w)}$ is the absolute frequency and ${N}$ is the size of the corpus. If the probability of the next word in the corpus (${w_{2}}$) is affected by the probability of the previous word (${w_{1}}$), then ${pmi(w_{1},w_{2}) = 0}$; else the pmi value is either positive or negative.\n",
    "\n",
    "$$ pmi(w_{1},w_{2}) = log \\frac{P(x_{t} = w_{1}, x_{t+1} = w_{2})} {P(x_{t} = w_{1}) . P(x_{t+1} = w_{2})} \\approx log \\frac {C(w_{1}w_{2}) . N} {C(w_{1}) . C(w_{2})}  $$\n",
    "\n",
    "<p>Calculate the Pointwise mutual information (PMI) for all successive word pairs (w1, w2) in the jungle book corpus. Words (not word pairs) that occur in the corpus less than 10 times should be ignored. List the 30 word pairs with the highest pmi value and the 30 word pairs with the lowest pmi value. Document your observations and discuss the validity of the independence assumption for unigram models. If needed, you can use nltk library. </p>"
   ]
  },
  {
   "cell_type": "code",
   "execution_count": 28,
   "id": "47fc1980",
   "metadata": {},
   "outputs": [],
   "source": [
    "data = None\n",
    "with open(\"./Datasets and resources/jungle_book.txt\", \"r\") as handle:\n",
    "    data = handle.read()\n",
    "\n",
    "# replace all characters with spaces except spaces, alphabets, commas and fullstops\n",
    "data = re.sub(r'[^a-zA-Z\\s,.]', '', data)\n",
    "while(\"\\n\" in data): data = data.replace(\"\\n\", \" \")\n",
    "data = data.replace(\",\", \".\")\n",
    "data = data.lower()\n",
    "data = data.split(\".\")"
   ]
  },
  {
   "cell_type": "markdown",
   "id": "ed52011f",
   "metadata": {},
   "source": [
    "count tokens and store bigram pairs"
   ]
  },
  {
   "cell_type": "code",
   "execution_count": 29,
   "id": "a80dc6fa",
   "metadata": {},
   "outputs": [
    {
     "name": "stdout",
     "output_type": "stream",
     "text": [
      "Number of tokens: 5559\n",
      "Number of bigram pairs: 48254\n"
     ]
    }
   ],
   "source": [
    "import nltk\n",
    "token_freq = {}\n",
    "bigram_pairs = []\n",
    "for i in data:\n",
    "    tokens = nltk.word_tokenize(i)\n",
    "\n",
    "    # count tokens\n",
    "    for i in tokens:\n",
    "        if(i not in token_freq.keys()):\n",
    "            token_freq[i] = 1\n",
    "        else:\n",
    "            token_freq[i] = token_freq[i] + 1\n",
    "\n",
    "    # store bigram token pairs\n",
    "    bigram_pairs.extend([pair for pair in nltk.bigrams(tokens)])\n",
    "\n",
    "# pairs_merged = np.array(pairs_merged)\n",
    "\n",
    "print(f\"Number of tokens: {len(token_freq.keys())}\")\n",
    "print(f\"Number of bigram pairs: {len(bigram_pairs)}\")"
   ]
  },
  {
   "cell_type": "markdown",
   "id": "ad3ee198",
   "metadata": {},
   "source": [
    "remove tokens with freq less than 10"
   ]
  },
  {
   "cell_type": "code",
   "execution_count": 30,
   "id": "3b950e4c",
   "metadata": {},
   "outputs": [
    {
     "name": "stdout",
     "output_type": "stream",
     "text": [
      "Number of tokens after cleaning: 700\n",
      "Number of bigram pairs after cleaning: 31663\n",
      "Number of unique bigram pairs after cleaning: 11690\n"
     ]
    }
   ],
   "source": [
    "tokens = list(token_freq.keys())\n",
    "for i in tokens:\n",
    "    if(token_freq[i] < 10):\n",
    "        del token_freq[i]\n",
    "\n",
    "print(f\"Number of tokens after cleaning: {len(token_freq.keys())}\")\n",
    "tokens = list(token_freq.keys())\n",
    "\n",
    "cleaned_bigram_pairs = []\n",
    "for i in bigram_pairs:\n",
    "    if(i[0] in tokens and i[1] in tokens):\n",
    "        cleaned_bigram_pairs.append(i)\n",
    "\n",
    "print(f\"Number of bigram pairs after cleaning: {len(cleaned_bigram_pairs)}\")\n",
    "print(f\"Number of unique bigram pairs after cleaning: {len(set(cleaned_bigram_pairs))}\")"
   ]
  },
  {
   "cell_type": "code",
   "execution_count": 36,
   "id": "32c93cac",
   "metadata": {},
   "outputs": [],
   "source": [
    "N = len(token_freq.keys()) # number of indivisual tokens\n",
    "unique_pairs = list(set(cleaned_bigram_pairs))\n",
    "\n",
    "pwi_info = {}\n",
    "\n",
    "for i in unique_pairs:\n",
    "    c_w1_w2 = cleaned_bigram_pairs.count(i)\n",
    "    c_w1 = token_freq[i[0]]\n",
    "    c_w2 = token_freq[i[1]]\n",
    "\n",
    "    pwi_info[i] = math.log((c_w1_w2 * N) / (c_w1 * c_w2))\n"
   ]
  },
  {
   "cell_type": "code",
   "execution_count": 33,
   "id": "538bce91",
   "metadata": {},
   "outputs": [],
   "source": [
    "sorted_pwi_info = []\n",
    "for i in pwi_info.keys():\n",
    "    sorted_pwi_info.append([i, pwi_info[i]])\n",
    "\n",
    "sorted_pwi_info = sorted(sorted_pwi_info, key=lambda x: x[1])"
   ]
  },
  {
   "cell_type": "code",
   "execution_count": 34,
   "id": "2114f6bd",
   "metadata": {},
   "outputs": [
    {
     "name": "stdout",
     "output_type": "stream",
     "text": [
      "30 Word Pairs with lowest PWI\n",
      "[('and', 'and'), ('of', 'and'), ('i', 'the'), ('of', 'of'), ('that', 'and'), ('of', 'he'), ('to', 'he'), ('for', 'and'), ('and', 'is'), ('is', 'and'), ('had', 'the'), ('and', 'of'), ('but', 'and'), ('not', 'and'), ('to', 'i'), ('one', 'the'), ('were', 'the'), ('of', 'for'), ('he', 'and'), ('this', 'the'), ('is', 'of'), ('would', 'the'), ('of', 'said'), ('for', 'to'), ('to', 'as'), ('them', 'the'), ('they', 'of'), ('him', 'of'), ('that', 'in'), ('do', 'the')]\n"
     ]
    }
   ],
   "source": [
    "print(\"30 Word Pairs with lowest PWI\")\n",
    "print([x[0] for x in sorted_pwi_info[:30]])"
   ]
  },
  {
   "cell_type": "code",
   "execution_count": 35,
   "id": "9241ed60",
   "metadata": {},
   "outputs": [
    {
     "name": "stdout",
     "output_type": "stream",
     "text": [
      "30 Word Pairs with highest PWI\n",
      "[('front', 'flippers'), ('brown', 'baby'), ('copyright', 'laws'), ('villagers', 'lived'), ('within', 'days'), ('brown', 'bear'), ('wolfs', 'cave'), ('mothers', 'heart'), ('moon', 'rose'), ('black', 'panther'), ('council', 'rock'), ('mans', 'cub'), ('bring', 'news'), ('years', 'ago'), ('master', 'words'), ('hind', 'flippers'), ('electronic', 'works'), ('whole', 'line'), ('twenty', 'yoke'), ('fore', 'paws'), ('hind', 'legs'), ('petersen', 'sahib'), ('gutenberg', 'literary'), ('stretched', 'myself'), ('cold', 'lairs'), ('archive', 'foundation'), ('darzees', 'wife'), ('united', 'states'), ('literary', 'archive'), ('machua', 'appa')]\n"
     ]
    }
   ],
   "source": [
    "print(\"30 Word Pairs with highest PWI\")\n",
    "print([x[0] for x in sorted_pwi_info[-30:]])"
   ]
  },
  {
   "cell_type": "markdown",
   "id": "0558e127",
   "metadata": {},
   "source": [
    "### Question 3: Wikipedia language model *(50 points)*"
   ]
  },
  {
   "cell_type": "markdown",
   "id": "7616576f",
   "metadata": {},
   "source": [
    "<p> A customer of yours is dissatisfied with the quality of the speech recognition. After a conversation with the customer, you find out that he dictates books. The initial investigations on a book excerpt have shown that the language model used is not suitable. For building a better language model for the application, you have asked your customer to provide a text from the book (see \"Datasets and Resources\") </p>\n",
    "\n",
    "<p> In order to save costs and also to avoid problems with copyrights, your company has decided not to use existing solutions for this project. So, you have to implement a 2-gram language model in Python from scratch. Include a short description of the data preprocessing steps, method, experiment design, hyper-parameters, and evaluation metric. Also, document your findings, drawbacks, and potential improvements. Finally, compare the performance of the language model with and without Backoff.</p>\n",
    "\n",
    "<p> You cannot use any Python libraries like NLTK. If you need to use special Python modules, you can discuss with your instructor before submission. </p>"
   ]
  },
  {
   "cell_type": "markdown",
   "id": "09f4776f",
   "metadata": {},
   "source": [
    "<h4> Datasets and Resources </h4> \n",
    "\n",
    "* WikiText-2 (raw/unprocessed), Train, Dev, Test"
   ]
  },
  {
   "cell_type": "code",
   "execution_count": null,
   "id": "07c70eea",
   "metadata": {},
   "outputs": [],
   "source": []
  },
  {
   "cell_type": "markdown",
   "id": "55cbc82a",
   "metadata": {},
   "source": [
    "### Additional Experiments *(5 additional points - <span style=\"color: red;\">Optional</span>)*"
   ]
  },
  {
   "cell_type": "code",
   "execution_count": null,
   "id": "9b5820d4",
   "metadata": {},
   "outputs": [],
   "source": []
  }
 ],
 "metadata": {
  "kernelspec": {
   "display_name": "Python 3 (ipykernel)",
   "language": "python",
   "name": "python3"
  },
  "language_info": {
   "codemirror_mode": {
    "name": "ipython",
    "version": 3
   },
   "file_extension": ".py",
   "mimetype": "text/x-python",
   "name": "python",
   "nbconvert_exporter": "python",
   "pygments_lexer": "ipython3",
   "version": "3.12.0"
  }
 },
 "nbformat": 4,
 "nbformat_minor": 5
}
