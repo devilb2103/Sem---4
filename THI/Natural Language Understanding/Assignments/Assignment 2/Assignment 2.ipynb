{
 "cells": [
  {
   "cell_type": "markdown",
   "id": "82e7877d",
   "metadata": {},
   "source": [
    "# Assignmnet 2 (100 points)"
   ]
  },
  {
   "cell_type": "markdown",
   "id": "297b6d20",
   "metadata": {},
   "source": [
    "**Name:** Dev Bhanushali<br>\n",
    "**Email:** deb3962@thi.de<br>\n",
    "**Group:** A <br>\n",
    "**Hours spend *(optional)* : 2 Hrs** <br>"
   ]
  },
  {
   "cell_type": "markdown",
   "id": "09f79f88",
   "metadata": {},
   "source": [
    "### SMS Spam Detection *(100 points)*"
   ]
  },
  {
   "cell_type": "markdown",
   "id": "148e88d0",
   "metadata": {},
   "source": [
    "<p>You are hired as an AI expert in the development department of a telecommunications company. The first thing on your orientation plan is a small project that your boss has assigned you for the following given situation. Your supervisor has given away his private cell phone number on too many websites and is now complaining about daily spam SMS. Therefore, it is your job to write a spam detector in Python. </p>\n",
    "\n",
    "<p>In doing so, you need to use a Naive Bayes classifier that can handle both bag-of-words (BoW) and tf-idf features as input. For the evaluation of your spam detector, an SMS collection is available as a dataset - this has yet to be suitably split into train and test data. To keep the costs as low as possible and to avoid problems with copyrights, your boss insists on a new development with Python.</p>\n",
    "\n",
    "<p>Include a short description of the data preprocessing steps, method, experiment design, hyper-parameters, and evaluation metric. Also, document your findings, drawbacks, and potential improvements.</p>\n",
    "\n",
    "<p>Note: You need to implement the bag-of-words (BoW) and tf-idf feature extractor from scratch. You can use existing python libraries for other tasks.</p>"
   ]
  },
  {
   "cell_type": "markdown",
   "id": "fad12eba",
   "metadata": {},
   "source": [
    "**Dataset and Resources**\n",
    "\n",
    "* SMS Spam Collection Dataset: https://archive.ics.uci.edu/dataset/228/sms+spam+collection"
   ]
  },
  {
   "cell_type": "markdown",
   "id": "6a3a4932",
   "metadata": {},
   "source": [
    "## Imports"
   ]
  },
  {
   "cell_type": "code",
   "execution_count": 3,
   "id": "9c184ae6",
   "metadata": {},
   "outputs": [],
   "source": [
    "import re\n",
    "import numpy as np\n",
    "import pandas as pd\n",
    "import seaborn as sns\n",
    "from collections import Counter\n",
    "import matplotlib.pyplot as plt\n",
    "from sklearn.naive_bayes import ComplementNB\n",
    "from sklearn.model_selection import train_test_split\n",
    "from sklearn.metrics import accuracy_score, confusion_matrix, classification_report"
   ]
  },
  {
   "cell_type": "markdown",
   "id": "bb4c9f37",
   "metadata": {},
   "source": [
    "## Load data and Preprocessing"
   ]
  },
  {
   "cell_type": "markdown",
   "id": "947591f1",
   "metadata": {},
   "source": [
    "**Feature Extraction**: I loaded the SMS Spam Collection dataset and preprocessed the text by converting it to lowercase and removing non-alphabetic characters."
   ]
  },
  {
   "cell_type": "code",
   "execution_count": 4,
   "id": "f4109920",
   "metadata": {},
   "outputs": [],
   "source": [
    "# load data into pandas\n",
    "data = np.loadtxt(\"../../Datasets and resources/sms_spam_collection/SMSSpamCollection\", delimiter=\"\t\", dtype=str)\n",
    "data = pd.DataFrame(data, columns=[\"Class\", \"Sample\"], dtype=str)\n",
    "\n",
    "# preprocess text\n",
    "data[\"Sample\"] = data[\"Sample\"].apply(lambda x: \"\".join(re.sub(r'[^a-zA-Z\\s]', '', x.lower())))"
   ]
  },
  {
   "cell_type": "markdown",
   "id": "82334ab2",
   "metadata": {},
   "source": [
    "Here we can see that there is class imbalance. Trying to synthetically generate classes would be tricky since we need to know what words in a sentence are more likely to influence the decision made by the NB Classifier. Undersampling is also likely to reduce performance since the number of samples are not that large."
   ]
  },
  {
   "cell_type": "code",
   "execution_count": 5,
   "id": "97c1d49d",
   "metadata": {},
   "outputs": [
    {
     "data": {
      "text/html": [
       "<div>\n",
       "<style scoped>\n",
       "    .dataframe tbody tr th:only-of-type {\n",
       "        vertical-align: middle;\n",
       "    }\n",
       "\n",
       "    .dataframe tbody tr th {\n",
       "        vertical-align: top;\n",
       "    }\n",
       "\n",
       "    .dataframe thead th {\n",
       "        text-align: right;\n",
       "    }\n",
       "</style>\n",
       "<table border=\"1\" class=\"dataframe\">\n",
       "  <thead>\n",
       "    <tr style=\"text-align: right;\">\n",
       "      <th></th>\n",
       "      <th>Sample</th>\n",
       "    </tr>\n",
       "    <tr>\n",
       "      <th>Class</th>\n",
       "      <th></th>\n",
       "    </tr>\n",
       "  </thead>\n",
       "  <tbody>\n",
       "    <tr>\n",
       "      <th>ham</th>\n",
       "      <td>4827</td>\n",
       "    </tr>\n",
       "    <tr>\n",
       "      <th>spam</th>\n",
       "      <td>747</td>\n",
       "    </tr>\n",
       "  </tbody>\n",
       "</table>\n",
       "</div>"
      ],
      "text/plain": [
       "       Sample\n",
       "Class        \n",
       "ham      4827\n",
       "spam      747"
      ]
     },
     "execution_count": 5,
     "metadata": {},
     "output_type": "execute_result"
    }
   ],
   "source": [
    "data.groupby(\"Class\").count()"
   ]
  },
  {
   "cell_type": "markdown",
   "id": "df00e0b5",
   "metadata": {},
   "source": [
    "To tackle this issue, we can use the **Compliment NB Classifier** described by <a href=”https://haystack.csail.mit.edu/papers/rennie.icml03.pdf”>Rennie et al. (2003).</a> (Done later during classification stage)"
   ]
  },
  {
   "cell_type": "markdown",
   "id": "562b2745",
   "metadata": {},
   "source": [
    "distribution of word count in a sentence"
   ]
  },
  {
   "cell_type": "code",
   "execution_count": 6,
   "id": "9403d0de",
   "metadata": {},
   "outputs": [
    {
     "data": {
      "text/plain": [
       "<seaborn.axisgrid.FacetGrid at 0x1d0c64b9490>"
      ]
     },
     "execution_count": 6,
     "metadata": {},
     "output_type": "execute_result"
    },
    {
     "data": {
      "image/png": "[encoded data removed]",
      "text/plain": [
       "<Figure size 500x500 with 1 Axes>"
      ]
     },
     "metadata": {},
     "output_type": "display_data"
    }
   ],
   "source": [
    "dist = [len(sample.split()) for sample in data[\"Sample\"]]\n",
    "sns.displot(dist)"
   ]
  },
  {
   "cell_type": "markdown",
   "id": "d8a02db1",
   "metadata": {},
   "source": [
    "## Feature Extraction"
   ]
  },
  {
   "cell_type": "markdown",
   "id": "e1ac1acc",
   "metadata": {},
   "source": [
    "**Feature Extraction**: For this assignment, as instructed, I have implemented Bag-Of-Words and TFIDF features from scratch. The formula for TF-IDF is in the TF-IDF section below"
   ]
  },
  {
   "cell_type": "markdown",
   "id": "fdd5669a",
   "metadata": {},
   "source": [
    "#### Bag Of Words"
   ]
  },
  {
   "cell_type": "code",
   "execution_count": 7,
   "id": "c02cec15",
   "metadata": {},
   "outputs": [],
   "source": [
    "# update vocabulary\n",
    "vocabulary = set()\n",
    "for sample in data[\"Sample\"]: vocabulary.update(sample.split())\n",
    "\n",
    "# extract bag of word feature matrix\n",
    "bow_feature_matrix = []\n",
    "for sample in data[\"Sample\"]:\n",
    "    bow = Counter(sample.split())\n",
    "    bow_feature_matrix.append([bow[word] for word in vocabulary])\n",
    "\n",
    "bow_data = pd.DataFrame(bow_feature_matrix, columns=list(vocabulary))\n",
    "bow_data = pd.concat([bow_data, data[\"Class\"]], axis=1)"
   ]
  },
  {
   "cell_type": "code",
   "execution_count": 8,
   "id": "a566c513",
   "metadata": {},
   "outputs": [
    {
     "name": "stdout",
     "output_type": "stream",
     "text": [
      "Vocabulary size: 8431\n"
     ]
    }
   ],
   "source": [
    "print(f\"Vocabulary size: {len(vocabulary)}\")"
   ]
  },
  {
   "cell_type": "markdown",
   "id": "20f109a7",
   "metadata": {},
   "source": [
    "#### TF-IDF"
   ]
  },
  {
   "cell_type": "markdown",
   "id": "6e443ef8",
   "metadata": {},
   "source": [
    "$$ \\text{TF-IDF}(w, d) = \\text{TF}(w, d) \\times \\text{IDF}(w) $$\n",
    "$$ \\text{where,} $$\n",
    "$$ \\text{TF}(w, d) = \\text{term frequency of term t in document d} = \\text{count}(w, d) $$\n",
    "$$ \\text{IDF}(w) = \\text{inverse document frequency of term t in the document set D} = \\log \\left( \\frac{N}{1 + \\text{df}(w)} \\right) $$"
   ]
  },
  {
   "cell_type": "code",
   "execution_count": 27,
   "id": "b8126ff0",
   "metadata": {},
   "outputs": [],
   "source": [
    "# calculate term frequency\n",
    "tf_matrix = np.zeros([len(data), len(vocabulary)])\n",
    "# num_rows = number of sentences\n",
    "# num_columns = vocabulary size\n",
    "for i, sample in enumerate(data[\"Sample\"]):\n",
    "    words = sample.split()\n",
    "    word_counts = {word: words.count(word) for word in vocabulary}\n",
    "    tf_matrix[i] = [word_counts[word] for word in vocabulary]\n",
    "\n",
    "# calculate inverse document frequency\n",
    "idf_matrix = np.zeros(len(vocabulary))\n",
    "for j, word in enumerate(vocabulary):\n",
    "    num_docs_containing_word = sum(1 for sentence in data[\"Sample\"] if word in sentence.split())\n",
    "    idf_matrix[j] = np.log(len(data) / (1 + num_docs_containing_word))\n",
    "\n",
    "# calculate tfidf vectors\n",
    "tfidf_matrix = tf_matrix * idf_matrix\n",
    "tfidf_df = pd.DataFrame(tfidf_matrix, columns=list(vocabulary))\n",
    "tfidf_data = pd.concat([tfidf_df, data[\"Class\"]], axis=1)"
   ]
  },
  {
   "cell_type": "markdown",
   "id": "771d8cb1",
   "metadata": {},
   "source": [
    "## Model Training"
   ]
  },
  {
   "cell_type": "markdown",
   "id": "e24010bc",
   "metadata": {},
   "source": [
    "Here, complement Naive Bayes did not have any hyperparameters that needed changing."
   ]
  },
  {
   "cell_type": "markdown",
   "id": "8f83d956",
   "metadata": {},
   "source": [
    "I trained a Complement Naive Bayes classifier (CNB) on both BoW and TF-IDF feature matrices."
   ]
  },
  {
   "cell_type": "markdown",
   "id": "285bf3d7",
   "metadata": {},
   "source": [
    "#### Bag Of Words"
   ]
  },
  {
   "cell_type": "markdown",
   "id": "bb12e820",
   "metadata": {},
   "source": [
    "generate samples for train and test using stratified sampling to keep same ratios of target classes in train and test"
   ]
  },
  {
   "cell_type": "code",
   "execution_count": null,
   "id": "82843b81",
   "metadata": {},
   "outputs": [],
   "source": [
    "X = bow_data.drop(\"Class\", axis=1)\n",
    "y = bow_data[\"Class\"]\n",
    "\n",
    "x_train, x_test, y_train, y_test = train_test_split(X, y, test_size=0.2, stratify=y, random_state=3)"
   ]
  },
  {
   "cell_type": "code",
   "execution_count": null,
   "id": "ef7a6bbf",
   "metadata": {},
   "outputs": [
    {
     "name": "stdout",
     "output_type": "stream",
     "text": [
      "Accuracy: 0.96\n",
      "\n",
      "              precision    recall  f1-score   support\n",
      "\n",
      "         ham       1.00      0.96      0.98       966\n",
      "        spam       0.78      0.97      0.87       149\n",
      "\n",
      "    accuracy                           0.96      1115\n",
      "   macro avg       0.89      0.97      0.92      1115\n",
      "weighted avg       0.97      0.96      0.96      1115\n",
      "\n"
     ]
    },
    {
     "data": {
      "text/plain": [
       "[]"
      ]
     },
     "execution_count": 77,
     "metadata": {},
     "output_type": "execute_result"
    },
    {
     "data": {
      "image/png": "[encoded data removed]",
      "text/plain": [
       "<Figure size 500x300 with 2 Axes>"
      ]
     },
     "metadata": {},
     "output_type": "display_data"
    }
   ],
   "source": [
    "cnb = ComplementNB().fit(x_train, y_train)\n",
    "y_pred = cnb.predict(x_test)\n",
    "\n",
    "print(f\"Accuracy: {round(accuracy_score(y_pred, y_test), 2)}\\n\")\n",
    "print(classification_report(y_pred=y_pred, y_true=y_test, zero_division=True))\n",
    "\n",
    "cf_martix_df = pd.DataFrame(confusion_matrix(y_pred=y_pred, y_true=y_test))\n",
    "plt.figure(figsize = (5,3))\n",
    "heatmap = sns.heatmap(cf_martix_df, annot=True, fmt=\"g\")\n",
    "heatmap.set_xlabel(\"Predicted Class\")\n",
    "heatmap.set_ylabel(\"Actual Class\")\n",
    "plt.plot()"
   ]
  },
  {
   "cell_type": "markdown",
   "id": "61b81b2f",
   "metadata": {},
   "source": [
    "#### TF-IDF"
   ]
  },
  {
   "cell_type": "markdown",
   "id": "74136b62",
   "metadata": {},
   "source": [
    "generate samples for train and test using stratified sampling to keep same ratios of target classes in train and test"
   ]
  },
  {
   "cell_type": "code",
   "execution_count": 29,
   "id": "afbb5ca3",
   "metadata": {},
   "outputs": [],
   "source": [
    "X = tfidf_data.drop(\"Class\", axis=1)\n",
    "y = tfidf_data[\"Class\"]\n",
    "\n",
    "x_train, x_test, y_train, y_test = train_test_split(X, y, test_size=0.2, stratify=y, random_state=3)"
   ]
  },
  {
   "cell_type": "code",
   "execution_count": 30,
   "id": "f8681563",
   "metadata": {},
   "outputs": [
    {
     "name": "stdout",
     "output_type": "stream",
     "text": [
      "Accuracy: 0.94\n",
      "\n",
      "              precision    recall  f1-score   support\n",
      "\n",
      "         ham       1.00      0.93      0.96       966\n",
      "        spam       0.69      0.99      0.81       149\n",
      "\n",
      "    accuracy                           0.94      1115\n",
      "   macro avg       0.85      0.96      0.89      1115\n",
      "weighted avg       0.96      0.94      0.94      1115\n",
      "\n"
     ]
    },
    {
     "data": {
      "text/plain": [
       "[]"
      ]
     },
     "execution_count": 30,
     "metadata": {},
     "output_type": "execute_result"
    },
    {
     "data": {
      "image/png": "[encoded data removed]",
      "text/plain": [
       "<Figure size 500x300 with 2 Axes>"
      ]
     },
     "metadata": {},
     "output_type": "display_data"
    }
   ],
   "source": [
    "cnb = ComplementNB().fit(x_train, y_train)\n",
    "y_pred = cnb.predict(x_test)\n",
    "\n",
    "print(f\"Accuracy: {round(accuracy_score(y_pred, y_test), 2)}\\n\")\n",
    "print(classification_report(y_pred=y_pred, y_true=y_test, zero_division=True))\n",
    "\n",
    "cf_martix_df = pd.DataFrame(confusion_matrix(y_pred=y_pred, y_true=y_test))\n",
    "plt.figure(figsize = (5,3))\n",
    "heatmap = sns.heatmap(cf_martix_df, annot=True, fmt=\"g\")\n",
    "heatmap.set_xlabel(\"Predicted Class\")\n",
    "heatmap.set_ylabel(\"Actual Class\")\n",
    "plt.plot()"
   ]
  },
  {
   "cell_type": "markdown",
   "id": "d3b3221e",
   "metadata": {},
   "source": [
    "**Findings**: we can observe that the Complement Naive Bayes Classifier did a slightly better job at classifying with BOW features compared to TF-IDF weighted features with an accuracy of 96% vs 94%"
   ]
  },
  {
   "cell_type": "markdown",
   "id": "7db317f4",
   "metadata": {},
   "source": [
    "**Potential Improvements**: Performance can likely be improved by removing stop words and using the mode frequency instead of word count in the formula for TFIDF"
   ]
  },
  {
   "cell_type": "markdown",
   "id": "55cbc82a",
   "metadata": {},
   "source": [
    "### Additional Experiments *(5 additional points - <span style=\"color: red;\">Optional</span>)*"
   ]
  },
  {
   "cell_type": "code",
   "execution_count": null,
   "id": "9b5820d4",
   "metadata": {},
   "outputs": [],
   "source": []
  }
 ],
 "metadata": {
  "kernelspec": {
   "display_name": "Python 3 (ipykernel)",
   "language": "python",
   "name": "python3"
  },
  "language_info": {
   "codemirror_mode": {
    "name": "ipython",
    "version": 3
   },
   "file_extension": ".py",
   "mimetype": "text/x-python",
   "name": "python",
   "nbconvert_exporter": "python",
   "pygments_lexer": "ipython3",
   "version": "3.11.5"
  }
 },
 "nbformat": 4,
 "nbformat_minor": 5
}
