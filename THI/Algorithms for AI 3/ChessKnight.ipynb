{
 "cells": [
  {
   "cell_type": "code",
   "execution_count": 1,
   "metadata": {},
   "outputs": [],
   "source": [
    "import sys\n",
    "\n",
    "# Set recursion limit to a higher value\n",
    "sys.setrecursionlimit(100000)  # You can adjust the limit as needed\n"
   ]
  },
  {
   "cell_type": "code",
   "execution_count": 2,
   "metadata": {},
   "outputs": [],
   "source": [
    "deltaPos = [[-1, 2], [1, 2], [2, 1], [2, -1], [1, -2], [-1, -2], [-2, -1], [-2, 1]]\n",
    "\n",
    "def addPos(pos1: list, pos2: list) -> list:\n",
    "    return [pos1[0] + pos2[0], pos1[1] + pos2[1]]"
   ]
  },
  {
   "cell_type": "code",
   "execution_count": 3,
   "metadata": {},
   "outputs": [],
   "source": [
    "def moveKnight(currSteps: int, currPath: list, currPos: list, targetPos: list) -> None:\n",
    "    global minSteps, minPath\n",
    "    \n",
    "    path = currPath\n",
    "    pos = currPos\n",
    "    steps = currSteps\n",
    "    # print(type(steps), type(path), type(pos))\n",
    "    # return\n",
    "    # stop recursion branch if exceeded current best record already\n",
    "    if(minSteps != None and currSteps >= minSteps):\n",
    "        return\n",
    "    \n",
    "    # if target is reached then check for new step record and overwrite old step record\n",
    "    elif(pos == targetPos):\n",
    "        if(minSteps == None or steps < minSteps):\n",
    "            minSteps = steps\n",
    "            minPath = path\n",
    "            print(minSteps, minPath)\n",
    "            return\n",
    "    \n",
    "    # spawn new step branch\n",
    "    else:\n",
    "        for i in deltaPos:\n",
    "            nextPos = addPos(pos, i)\n",
    "            # check for valid pos not out of board else return\n",
    "            if(not(0 < nextPos[0] < 9 and 0 < nextPos[1] < 9)): continue\n",
    "            elif(minSteps != None and steps >= minSteps): continue\n",
    "            nextPath = path.copy() + [nextPos]\n",
    "            moveKnight(steps + 1, nextPath, nextPos, targetPos)"
   ]
  },
  {
   "cell_type": "code",
   "execution_count": 4,
   "metadata": {},
   "outputs": [
    {
     "name": "stdout",
     "output_type": "stream",
     "text": [
      "8 [[4, 4], [3, 6], [2, 8], [4, 7], [6, 8], [8, 7], [7, 5], [6, 7], [8, 8]]\n",
      "6 [[4, 4], [3, 6], [2, 8], [4, 7], [6, 8], [7, 6], [8, 8]]\n",
      "4 [[4, 4], [3, 6], [4, 8], [6, 7], [8, 8]]\n",
      "4 [[4, 4], [3, 6], [4, 8], [6, 7], [8, 8]]\n"
     ]
    }
   ],
   "source": [
    "# Test Case 1: Basic Test Case\n",
    "stepInit = 0\n",
    "minSteps = None\n",
    "minPath = None\n",
    "currPos = [4, 4]\n",
    "targetPos = [8, 8]\n",
    "moveKnight(0, [currPos], currPos, targetPos)\n",
    "print(minSteps, minPath)\n",
    "# Expected Output: 4 [[4, 4], [6, 3], [8, 4], [7, 6], [8, 8]]"
   ]
  },
  {
   "cell_type": "code",
   "execution_count": 5,
   "metadata": {},
   "outputs": [
    {
     "name": "stdout",
     "output_type": "stream",
     "text": [
      "6 [[1, 1], [2, 3], [1, 5], [2, 7], [4, 8], [6, 7], [8, 8]]\n",
      "6 [[1, 1], [2, 3], [1, 5], [2, 7], [4, 8], [6, 7], [8, 8]]\n"
     ]
    }
   ],
   "source": [
    "# Test Case 2: Edge Case\n",
    "stepInit = 0\n",
    "minSteps = None\n",
    "minPath = None\n",
    "currPos = [1, 1]\n",
    "targetPos = [8, 8]\n",
    "moveKnight(0, [currPos], currPos, targetPos)\n",
    "print(minSteps, minPath)\n",
    "# Expected Output: 6 [[1, 1], [3, 2], [5, 3], [7, 4], [8, 6], [6, 7], [8, 8]]"
   ]
  },
  {
   "cell_type": "code",
   "execution_count": 6,
   "metadata": {},
   "outputs": [],
   "source": [
    "\n",
    "# Test Case 3: Another Edge Case\n",
    "stepInit = 0\n",
    "minSteps = None\n",
    "minPath = None\n",
    "currPos = [1, 1]\n",
    "targetPos = [1, 8]\n",
    "moveKnight(0, [currPos], currPos, targetPos)\n",
    "print(minSteps, minPath)\n",
    "# Expected Output: 7 [[1, 1], [3, 2], [1, 3], [3, 4], [1, 5], [3, 6], [1, 7], [2, 8]]"
   ]
  },
  {
   "cell_type": "code",
   "execution_count": null,
   "metadata": {},
   "outputs": [],
   "source": [
    "\n",
    "# # Test Case 4: Random Test Case\n",
    "# stepInit = 0\n",
    "# minSteps = None\n",
    "# minPath = None\n",
    "# currPos = [3, 3]\n",
    "# targetPos = [7, 6]\n",
    "# moveKnight(0, [currPos], currPos, targetPos)\n",
    "# print(minSteps, minPath)\n",
    "# # Expected Output: 4 [[3, 3], [5, 4], [7, 5], [5, 6], [7, 6]]"
   ]
  },
  {
   "cell_type": "code",
   "execution_count": null,
   "metadata": {},
   "outputs": [],
   "source": [
    "# # Test Case 5: Test Case with Longer Path\n",
    "# stepInit = 0\n",
    "# minSteps = None\n",
    "# minPath = None\n",
    "# currPos = [2, 2]\n",
    "# targetPos = [8, 7]\n",
    "# moveKnight(0, [currPos], currPos, targetPos)\n",
    "# print(minSteps, minPath)\n",
    "# # Expected Output: 5 [[2, 2], [4, 3], [6, 4], [8, 5], [6, 6], [8, 7]]"
   ]
  }
 ],
 "metadata": {
  "kernelspec": {
   "display_name": "Python 3",
   "language": "python",
   "name": "python3"
  },
  "language_info": {
   "codemirror_mode": {
    "name": "ipython",
    "version": 3
   },
   "file_extension": ".py",
   "mimetype": "text/x-python",
   "name": "python",
   "nbconvert_exporter": "python",
   "pygments_lexer": "ipython3",
   "version": "undefined.undefined.undefined"
  }
 },
 "nbformat": 4,
 "nbformat_minor": 2
}
