{
 "cells": [
  {
   "cell_type": "code",
   "execution_count": 1,
   "metadata": {},
   "outputs": [],
   "source": [
    "deltaPos = [[-1, 2], [1, 2], [2, 1], [2, -1], [1, -2], [-1, -2], [-2, -1], [-2, 1]]\n",
    "\n",
    "def addPos(pos1: list, pos2: list) -> list:\n",
    "    return [pos1[0] + pos2[0], pos1[1] + pos2[1]]\n",
    "\n",
    "board_size = 8\n",
    "max_step_limit = ((2 * board_size) / 3) + 1"
   ]
  },
  {
   "cell_type": "code",
   "execution_count": 2,
   "metadata": {},
   "outputs": [],
   "source": [
    "def moveKnight(currSteps: int, currPath: list, currPos: list, targetPos: list) -> None:\n",
    "    global minSteps, minPath\n",
    "    \n",
    "    path = currPath\n",
    "    pos = currPos\n",
    "    steps = currSteps\n",
    "    # print(type(steps), type(path), type(pos))\n",
    "    # return\n",
    "    # stop recursion branch if exceeded current best record already\n",
    "    if(minSteps != None and currSteps >= minSteps):\n",
    "        return\n",
    "    \n",
    "    # if target is reached then check for new step record and overwrite old step record\n",
    "    elif(pos == targetPos):\n",
    "        if(minSteps == None or steps < minSteps):\n",
    "            minSteps = steps\n",
    "            minPath = path\n",
    "            # print(minSteps, minPath)\n",
    "            return\n",
    "    \n",
    "    # spawn new recursion step branch\n",
    "    else:\n",
    "        for i in deltaPos:\n",
    "            nextPos = addPos(pos, i)\n",
    "            # check for valid pos that is not out of chess board else return\n",
    "            if(not(0 < nextPos[0] < 9 and 0 < nextPos[1] < 9)): continue\n",
    "            elif(minSteps != None and steps >= minSteps): continue\n",
    "            nextPath = path.copy() + [nextPos]\n",
    "            moveKnight(steps + 1, nextPath, nextPos, targetPos)"
   ]
  },
  {
   "cell_type": "code",
   "execution_count": 1,
   "metadata": {},
   "outputs": [
    {
     "name": "stdout",
     "output_type": "stream",
     "text": [
      "Invalid board locations entered\n",
      "Invalid board locations entered\n"
     ]
    },
    {
     "ename": "SyntaxError",
     "evalue": "invalid syntax (<string>, line 0)",
     "output_type": "error",
     "traceback": [
      "Traceback \u001b[1;36m(most recent call last)\u001b[0m:\n",
      "\u001b[0m  File \u001b[0;32m~\\AppData\\Roaming\\Python\\Python312\\site-packages\\IPython\\core\\interactiveshell.py:3526\u001b[0m in \u001b[0;35mrun_code\u001b[0m\n    exec(code_obj, self.user_global_ns, self.user_ns)\u001b[0m\n",
      "\u001b[1;36m  Cell \u001b[1;32mIn[1], line 3\u001b[1;36m\n\u001b[1;33m    targetPos = eval(str(input(\"Target Pos (format [<x>, <y>]): \")))\u001b[1;36m\n",
      "\u001b[1;36m  File \u001b[1;32m<string>\u001b[1;36m\u001b[0m\n\u001b[1;33m    \u001b[0m\n\u001b[1;37m    ^\u001b[0m\n\u001b[1;31mSyntaxError\u001b[0m\u001b[1;31m:\u001b[0m invalid syntax\n"
     ]
    }
   ],
   "source": [
    "while(True):\n",
    "    curr_pos = eval(str(input(\"Start Pos (format [<x>, <y>]): \")))\n",
    "    targetPos = eval(str(input(\"Target Pos (format [<x>, <y>]): \")))\n",
    "\n",
    "    if(1 <= curr_pos[0] <= 8 and 1 <= curr_pos[1] <= 8 and 1 <= targetPos[0] <= 8 and 1 <= targetPos[1] <= 8):\n",
    "        pass\n",
    "    else:\n",
    "        print(\"Invalid board locations entered\")\n",
    "        continue\n",
    "\n",
    "    minSteps = max_step_limit\n",
    "    minPath = None\n",
    "    moveKnight(0, [curr_pos], curr_pos, targetPos)\n",
    "    if(minPath != None):\n",
    "        print(f\"{targetPos} can be reached from {curr_pos} in {minSteps} steps\\npath: {minPath}\", \"\\n\\n\\n\")\n",
    "    else:\n",
    "        print(f\"Path from {curr_pos} to {targetPos} cannot be found.\")\n",
    "\n",
    "    state = input(\"End program?? (y/n)\")\n",
    "    end = False\n",
    "    while True:\n",
    "        if(state.lower() == \"y\"):\n",
    "            end = True\n",
    "            break\n",
    "        elif(state.lower() == \"n\"):\n",
    "            pass\n",
    "        else:\n",
    "            print(\"invalid option\")\n",
    "            continue\n",
    "    \n",
    "    if(end):\n",
    "        break"
   ]
  }
 ],
 "metadata": {
  "kernelspec": {
   "display_name": "Python 3",
   "language": "python",
   "name": "python3"
  },
  "language_info": {
   "codemirror_mode": {
    "name": "ipython",
    "version": 3
   },
   "file_extension": ".py",
   "mimetype": "text/x-python",
   "name": "python",
   "nbconvert_exporter": "python",
   "pygments_lexer": "ipython3",
   "version": "3.12.0"
  }
 },
 "nbformat": 4,
 "nbformat_minor": 2
}
