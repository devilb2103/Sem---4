{
 "cells": [
  {
   "cell_type": "markdown",
   "id": "48aa0944",
   "metadata": {},
   "source": [
    "# Exercise 1 - Logic"
   ]
  },
  {
   "cell_type": "markdown",
   "id": "3a6a7036",
   "metadata": {},
   "source": [
    "Use LaTeX commands to write logic symbols in jupyter notebook: [LaTeX logic symbols](https://en.wikipedia.org/wiki/List_of_logic_symbols)"
   ]
  },
  {
   "cell_type": "markdown",
   "id": "ee1088f4",
   "metadata": {},
   "source": [
    "## Task 1 - Warmup - Truth table"
   ]
  },
  {
   "cell_type": "markdown",
   "id": "4caddceb",
   "metadata": {},
   "source": [
    "#### a) Build the truth table for the following sentences. Assume that we have two arbitrary atomic sentences $\\alpha$, $\\beta$ and $\\gamma$. Fill out the missing combinations of the three sentences. How many combinations do we have for $n$ sentences?"
   ]
  },
  {
   "cell_type": "markdown",
   "id": "462e7776",
   "metadata": {},
   "source": [
    "| $\\alpha$ | $\\beta$ | $\\gamma$ | $$\\alpha \\land (\\beta \\lor \\gamma)$$ | $$(\\alpha \\lor (\\beta \\lor \\gamma))$$ | $$(\\alpha \\lor \\beta)\\land(\\alpha \\lor \\gamma)$$ |\n",
    "|:--------:|:-------:|:--------:|:----------------------------------:|:-----------------------------------:|:----------------------------------------------:|\n",
    "|   false  |  false  |   false  |false|false|false|\n",
    "|   false  |  false  |   true   |false|true|false|\n",
    "|   false  |   true  |   false  |false|true|false|\n",
    "|   true   |  false  |   false  |false|true|true|\n",
    "|   false  |   true  |   true   |false|true|true|\n",
    "|   true   |  false  |   true   |true|true|true|"
   ]
  },
  {
   "cell_type": "markdown",
   "id": "b2536620",
   "metadata": {},
   "source": [
    "for $n$ sentences, we have $2^{n}$ combinations, and and in this case since we have 3 parallely computed sentences for each valuation, we will have $2^{3n}$ combinations"
   ]
  },
  {
   "cell_type": "markdown",
   "id": "6aefd2ee",
   "metadata": {},
   "source": [
    "b) Find equivalences of the following complex sentences:\n",
    "1) $(\\alpha \\land (\\beta \\lor \\gamma)) \\equiv (\\alpha \\land \\beta) \\lor (\\alpha \\land \\gamma)$\n",
    "\n",
    "2) $(\\alpha \\lor (\\beta \\lor \\gamma)) \\equiv ((\\alpha \\lor \\beta) \\lor \\gamma) \\equiv ((\\alpha \\lor \\gamma) \\lor \\beta) \\equiv (\\alpha \\lor \\beta \\lor \\gamma)$\n",
    "\n",
    "3) $(\\alpha \\lor \\beta)\\land(\\alpha \\lor \\gamma) \\equiv (\\alpha \\lor (\\beta \\land\\gamma))$"
   ]
  },
  {
   "cell_type": "markdown",
   "id": "6aa6987e",
   "metadata": {},
   "source": [
    "## Task 2 - Propositional Theorem Proving"
   ]
  },
  {
   "cell_type": "markdown",
   "id": "0ce0f8da",
   "metadata": {},
   "source": [
    "We know already that a two arbitrary sentences $\\alpha$ and $\\beta$ are equivalent if and only if each of them entails the other:\n",
    "\n",
    "$\\alpha \\equiv \\beta$ if and only if $\\alpha \\models \\beta$ and $\\beta \\models \\alpha$"
   ]
  },
  {
   "cell_type": "markdown",
   "id": "2f571861",
   "metadata": {},
   "source": [
    "#### a) Give an example of a tautology."
   ]
  },
  {
   "cell_type": "markdown",
   "id": "9f569aa5",
   "metadata": {},
   "source": [
    "$\\rightarrow$ A Tautology is any sentence or atomic sentence that is always true.\n",
    "\n",
    "**Example:** The sun may or may not rise from the east for all planets in the solar system. This statement is a tautology because it is true for all planets, regardless of the fact that all planets except Venus and Uranus rotate counter-clock wise.\n",
    "\n",
    "**Another Example:** The atomic sentence ($A \\lor \\lnot A$) is always true."
   ]
  },
  {
   "cell_type": "markdown",
   "id": "3dbe3af7",
   "metadata": {},
   "source": [
    "#### b) What is the definition of the SAT problem?"
   ]
  },
  {
   "cell_type": "markdown",
   "id": "9c0b55cd",
   "metadata": {},
   "source": [
    "A SAT problem, also known as the satisfiability problem (in context of logical mathematics) is a problem where we determine if there is a combination of True or False values which when put in place of variables of a formula, can result to the sentence evaluation as True.\n",
    "\n",
    "For example, in the expression $A \\lor B$, we can substitute the values of A and B as True and False to get the result as True. This lets us conclude that this formula is satisfiable."
   ]
  },
  {
   "cell_type": "markdown",
   "id": "fdd5bb52",
   "metadata": {},
   "source": [
    "#### c) Which of the following are correct?"
   ]
  },
  {
   "cell_type": "markdown",
   "id": "3836abd9",
   "metadata": {},
   "source": [
    "1) $(A\\land B) \\models A{\\Leftrightarrow}B$\n",
    "\n",
    "2) $A\\Leftrightarrow B \\models A \\lor B$\n",
    "\n",
    "3) $A\\Leftrightarrow B \\models \\lnot A \\lor B$ "
   ]
  },
  {
   "cell_type": "markdown",
   "id": "5b60795e",
   "metadata": {},
   "source": [
    "We can construct a truth table for the sentences present on both sizes in the above expressions as follows\n",
    "\n",
    "| $A$ | $B$ | $A{\\Leftrightarrow}B$ | $A \\lor B$ | $A\\land B$ | $\\lnot A \\lor B$ |\n",
    "|:--------:|:-------:|:-------:|:-----:|:-----:|:-----:|\n",
    "|   True   |  True   |   True  | True  | True  | True  |\n",
    "|   True   |  False  |   False | True  | False | False |\n",
    "|   False  |  True   |   False | True  | False | True  |\n",
    "|   False  |  False  |   True  | False | False | True  |"
   ]
  },
  {
   "cell_type": "markdown",
   "id": "d3fdac81",
   "metadata": {},
   "source": [
    "$\\mathbf{Answer\\;1)} \\;\\; (A\\land B)$ entails $(A\\Leftrightarrow B)$, or $(A\\land B) \\models (A\\Leftrightarrow B)$, since for all true valuations of $(A\\land B)$, the valuations of $(A\\Leftrightarrow B)$ are also true. so this statement is $\\mathbf{CORRECT}$."
   ]
  },
  {
   "cell_type": "markdown",
   "id": "d3749d31",
   "metadata": {},
   "source": [
    "$\\mathbf{Answer\\;2)} \\;\\; (A\\Leftrightarrow B)$ does not entail $(A\\lor B)$, or $(A\\Leftrightarrow B) \\nvDash (A\\lor B)$, since for all true valuations of $(A\\Leftrightarrow B)$, the valuations of $(A\\lor B)$ are not necessarily true. so this statement is $\\mathbf{INCORRECT}$."
   ]
  },
  {
   "cell_type": "markdown",
   "id": "741f2790",
   "metadata": {},
   "source": [
    "$\\mathbf{Answer\\;3)} \\;\\; (A\\Leftrightarrow B)$ entails $(\\lnot A \\lor B)$, or $(A\\Leftrightarrow B) \\models (\\lnot A \\lor B)$, since for all true valuations of $(A\\Leftrightarrow B)$, the valuations of $(\\lnot A \\lor B)$ are also true. so this statement is $\\mathbf{CORRECT}$."
   ]
  },
  {
   "cell_type": "markdown",
   "id": "6f9d270d",
   "metadata": {},
   "source": [
    "## Task 3 - Coding"
   ]
  },
  {
   "cell_type": "markdown",
   "id": "2fd74afc",
   "metadata": {},
   "source": [
    "$$\n",
    "\\text{IsPLTrue}(sentence, m) \\text{ that returns } \\text{true}\n",
    "$$\n"
   ]
  },
  {
   "cell_type": "markdown",
   "id": "2e39b0ad",
   "metadata": {},
   "source": [
    "Write a recursive algorithm IsPLTrue$(sentence, m)$ that returns ${true}$ if and only if the sentence $s$ is true in the model $m$ (where $m$ assigns a truth value for every symbol in $s$).\n",
    "\n",
    "Use pseudo code only as we dont have enough definitions to write python code!"
   ]
  },
  {
   "cell_type": "code",
   "execution_count": null,
   "id": "1b24efca",
   "metadata": {},
   "outputs": [],
   "source": []
  }
 ],
 "metadata": {
  "kernelspec": {
   "display_name": "Python 3 (ipykernel)",
   "language": "python",
   "name": "python3"
  },
  "language_info": {
   "codemirror_mode": {
    "name": "ipython",
    "version": 3
   },
   "file_extension": ".py",
   "mimetype": "text/x-python",
   "name": "python",
   "nbconvert_exporter": "python",
   "pygments_lexer": "ipython3",
   "version": "3.11.5"
  }
 },
 "nbformat": 4,
 "nbformat_minor": 5
}
