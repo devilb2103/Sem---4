{
 "cells": [
  {
   "cell_type": "markdown",
   "id": "a8bce309",
   "metadata": {},
   "source": [
    "# Numpy, Pandas, Scikit-Learn"
   ]
  },
  {
   "cell_type": "markdown",
   "id": "b93fc884",
   "metadata": {},
   "source": [
    "## NumPy: [NumPy](https://numpy.org/) [Quickstart](https://numpy.org/devdocs/user/quickstart.html)"
   ]
  },
  {
   "cell_type": "markdown",
   "id": "0f224258",
   "metadata": {},
   "source": [
    "From the last practicals -> Go through the Quickstart and learn the basic commands of numpy. Why do you think that we should use this for further machine learning tasks?"
   ]
  },
  {
   "cell_type": "markdown",
   "id": "30b2d274",
   "metadata": {},
   "source": [
    "we can use numpy for machine learning because it has a wide variety of functions that we can use out of the box. It is also very efficient when performing operations on large data at once"
   ]
  },
  {
   "cell_type": "markdown",
   "id": "2a1feb63",
   "metadata": {},
   "source": [
    "### Some more NumPy tasks"
   ]
  },
  {
   "cell_type": "code",
   "execution_count": 1,
   "id": "cef36e75",
   "metadata": {},
   "outputs": [],
   "source": [
    "import numpy as np"
   ]
  },
  {
   "cell_type": "markdown",
   "id": "bc38b321",
   "metadata": {},
   "source": [
    "#### Loops"
   ]
  },
  {
   "cell_type": "code",
   "execution_count": 4,
   "id": "6a575764",
   "metadata": {},
   "outputs": [
    {
     "name": "stdout",
     "output_type": "stream",
     "text": [
      "0.0\n",
      "0.1\n",
      "0.2\n",
      "0.3\n",
      "0.4\n",
      "0.5\n",
      "0.6\n",
      "0.7\n",
      "0.8\n",
      "0.9\n",
      "1.0\n",
      "\n",
      "0.1\n",
      "0.2\n",
      "0.3\n",
      "0.4\n",
      "0.5\n",
      "0.6\n",
      "0.7\n",
      "0.8\n",
      "0.9\n",
      "1.0\n"
     ]
    }
   ],
   "source": [
    "# use numpy for loops, e. g. how can you loop floating point numbers in Python e. g. (0.1, 0.2, 0.3, 0.4, ..., 1).\n",
    "# Of course, there are solutions to do that but try it out with numpy arange.\n",
    "\n",
    "\n",
    "# 1) Code the pythonic way for looping floating point numbers: [0.1, 0.2, 0.3, 0.4, ..., 1]\n",
    "for i in [x/10 for x in range(11)]: print(i)\n",
    "\n",
    "print()\n",
    "# 2) Code the Numpy way:\n",
    "for i in np.linspace(0.1, 1, 10): print(round(i, 2))\n",
    "\n",
    "\n",
    "# This applies for more than only this example. But what do you find more readable?"
   ]
  },
  {
   "cell_type": "markdown",
   "id": "31d4aa70",
   "metadata": {},
   "source": [
    "in this question, both methods seem quite readable. It is a matter of personal preference."
   ]
  },
  {
   "cell_type": "markdown",
   "id": "fda4a1fc",
   "metadata": {},
   "source": [
    "#### List operations"
   ]
  },
  {
   "cell_type": "code",
   "execution_count": 13,
   "id": "5d053961",
   "metadata": {},
   "outputs": [
    {
     "name": "stdout",
     "output_type": "stream",
     "text": [
      "[[1, 2], [3, 4], [5, 6], [7, 8], [9, 10]]\n",
      "\n",
      "[[ 1  2]\n",
      " [ 3  4]\n",
      " [ 5  6]\n",
      " [ 7  8]\n",
      " [ 9 10]]\n"
     ]
    }
   ],
   "source": [
    "# Define the list with name _list in pythonic way and numpy way\n",
    "_list = [[1, 2], [3, 4], [5, 6], [7, 8], [9, 10]]\n",
    "\n",
    "# 1) pythonic way\n",
    "_list = [[1, 2], [3, 4], [5, 6], [7, 8], [9, 10]]\n",
    "print(_list, end=\"\\n\\n\")\n",
    "\n",
    "# 2) Numpy way\n",
    "print(np.array(_list))"
   ]
  },
  {
   "cell_type": "markdown",
   "id": "9cc90d1c",
   "metadata": {},
   "source": [
    "#### Matrix multiplication"
   ]
  },
  {
   "cell_type": "code",
   "execution_count": 66,
   "id": "26a35056",
   "metadata": {},
   "outputs": [
    {
     "name": "stdout",
     "output_type": "stream",
     "text": [
      "Numpy transpose\n",
      " [[2.1 4.5]\n",
      " [3.5 6.6]\n",
      " [7.2 7.7]]\n",
      "\n",
      "python transpose\n",
      " [[2.1, 4.5], [3.5, 6.6], [7.2, 7.7]]\n",
      "\n",
      "Numpy mat mul:\n",
      " [[34 67]\n",
      " [61 78]]\n",
      "\n",
      "Python way\n",
      "[[34, 67], [61, 78]]\n"
     ]
    }
   ],
   "source": [
    "# Define the pythonic way for the following numpy expressions\n",
    "\n",
    "#### Task 1\n",
    "_list = [[2.1, 3.5, 7.2], [4.5, 6.6, 7.7]]\n",
    "# 1) Numpy way\n",
    "\n",
    "# Numpy transpose\n",
    "_np_list = np.array(_list).T\n",
    "print('Numpy transpose\\n', _np_list)\n",
    "\n",
    "# 2) Pythonic way for numpy transpose\n",
    "# YOUR CODE...\n",
    "transpose = [[row[i] for row in _list] for i in range(len(_list[0]))]\n",
    "print(f\"\\npython transpose\\n {transpose}\")\n",
    "\n",
    "\n",
    "\n",
    "#### Task 2\n",
    "_list1 = [[2, 3, 7], [4, 6, 7]]\n",
    "_list2 = [[3, 4], [7, 1], [1, 8]]\n",
    "# 1) Numpy mat mul\n",
    "_np_mul = np.matmul(_list1, _list2)\n",
    "print('\\nNumpy mat mul:\\n', _np_mul)\n",
    "\n",
    "# 2) Pythonic way\n",
    "\n",
    "# YOUR CODE...\n",
    "list_1_2_multi = []\n",
    "for x_row in _list1:\n",
    "    y_cols = [[row[i] for row in _list2] for i in range(len(_list2[0]))]\n",
    "    row = []\n",
    "    for i in y_cols:\n",
    "        row.append(sum([x*y for x,y in zip(x_row, i)]))\n",
    "    list_1_2_multi.append(row) \n",
    "print(f\"\\nPython way\\n{list_1_2_multi}\")\n"
   ]
  },
  {
   "cell_type": "markdown",
   "id": "2a2b85f7",
   "metadata": {},
   "source": [
    "## Pandas: [Pandas](https://pandas.pydata.org/) [Quickstart](https://pandas.pydata.org/docs/getting_started/intro_tutorials/index.html)"
   ]
  },
  {
   "cell_type": "code",
   "execution_count": 67,
   "id": "96752b62",
   "metadata": {},
   "outputs": [],
   "source": [
    "import pandas as pd"
   ]
  },
  {
   "cell_type": "code",
   "execution_count": 85,
   "id": "95dc5411",
   "metadata": {},
   "outputs": [
    {
     "name": "stdout",
     "output_type": "stream",
     "text": [
      "Index(['RowNumber', 'CustomerId', 'Surname', 'CreditScore', 'Geography',\n",
      "       'Gender', 'Age', 'Tenure', 'Balance', 'NumOfProducts', 'HasCrCard',\n",
      "       'IsActiveMember', 'EstimatedSalary', 'Exited'],\n",
      "      dtype='object')\n",
      "      Gender  Age  Tenure    Balance\n",
      "0     Female   42       2       0.00\n",
      "1     Female   41       1   83807.86\n",
      "2     Female   42       8  159660.80\n",
      "3     Female   39       1       0.00\n",
      "4     Female   43       2  125510.82\n",
      "...      ...  ...     ...        ...\n",
      "9995    Male   39       5       0.00\n",
      "9996    Male   35      10   57369.61\n",
      "9997  Female   36       7       0.00\n",
      "9998    Male   42       3   75075.31\n",
      "9999  Female   28       4  130142.79\n",
      "\n",
      "[10000 rows x 4 columns]\n"
     ]
    },
    {
     "data": {
      "text/html": [
       "<div>\n",
       "<style scoped>\n",
       "    .dataframe tbody tr th:only-of-type {\n",
       "        vertical-align: middle;\n",
       "    }\n",
       "\n",
       "    .dataframe tbody tr th {\n",
       "        vertical-align: top;\n",
       "    }\n",
       "\n",
       "    .dataframe thead th {\n",
       "        text-align: right;\n",
       "    }\n",
       "</style>\n",
       "<table border=\"1\" class=\"dataframe\">\n",
       "  <thead>\n",
       "    <tr style=\"text-align: right;\">\n",
       "      <th></th>\n",
       "      <th></th>\n",
       "      <th>RowNumber</th>\n",
       "      <th>CreditScore</th>\n",
       "      <th>Age</th>\n",
       "      <th>Tenure</th>\n",
       "      <th>Balance</th>\n",
       "      <th>NumOfProducts</th>\n",
       "      <th>HasCrCard</th>\n",
       "      <th>IsActiveMember</th>\n",
       "      <th>EstimatedSalary</th>\n",
       "      <th>Exited</th>\n",
       "    </tr>\n",
       "    <tr>\n",
       "      <th>Geography</th>\n",
       "      <th>Gender</th>\n",
       "      <th></th>\n",
       "      <th></th>\n",
       "      <th></th>\n",
       "      <th></th>\n",
       "      <th></th>\n",
       "      <th></th>\n",
       "      <th></th>\n",
       "      <th></th>\n",
       "      <th></th>\n",
       "      <th></th>\n",
       "    </tr>\n",
       "  </thead>\n",
       "  <tbody>\n",
       "    <tr>\n",
       "      <th rowspan=\"2\" valign=\"top\">France</th>\n",
       "      <th>Female</th>\n",
       "      <td>4996.441840</td>\n",
       "      <td>649.185759</td>\n",
       "      <td>38.773994</td>\n",
       "      <td>4.950022</td>\n",
       "      <td>60322.670159</td>\n",
       "      <td>1.547545</td>\n",
       "      <td>0.697921</td>\n",
       "      <td>0.513932</td>\n",
       "      <td>99564.252755</td>\n",
       "      <td>0.203450</td>\n",
       "    </tr>\n",
       "    <tr>\n",
       "      <th>Male</th>\n",
       "      <td>5048.870687</td>\n",
       "      <td>650.064657</td>\n",
       "      <td>38.296404</td>\n",
       "      <td>5.049401</td>\n",
       "      <td>63546.284875</td>\n",
       "      <td>1.517254</td>\n",
       "      <td>0.713767</td>\n",
       "      <td>0.519070</td>\n",
       "      <td>100174.252495</td>\n",
       "      <td>0.127134</td>\n",
       "    </tr>\n",
       "    <tr>\n",
       "      <th rowspan=\"2\" valign=\"top\">Germany</th>\n",
       "      <th>Female</th>\n",
       "      <td>5004.213747</td>\n",
       "      <td>653.093881</td>\n",
       "      <td>40.154233</td>\n",
       "      <td>4.965633</td>\n",
       "      <td>119145.966471</td>\n",
       "      <td>1.511316</td>\n",
       "      <td>0.706622</td>\n",
       "      <td>0.468567</td>\n",
       "      <td>102446.424124</td>\n",
       "      <td>0.375524</td>\n",
       "    </tr>\n",
       "    <tr>\n",
       "      <th>Male</th>\n",
       "      <td>4996.712006</td>\n",
       "      <td>649.966565</td>\n",
       "      <td>39.424772</td>\n",
       "      <td>5.050152</td>\n",
       "      <td>120259.668222</td>\n",
       "      <td>1.527356</td>\n",
       "      <td>0.720365</td>\n",
       "      <td>0.523556</td>\n",
       "      <td>99905.033959</td>\n",
       "      <td>0.278116</td>\n",
       "    </tr>\n",
       "    <tr>\n",
       "      <th rowspan=\"2\" valign=\"top\">Spain</th>\n",
       "      <th>Female</th>\n",
       "      <td>4764.689624</td>\n",
       "      <td>651.769513</td>\n",
       "      <td>39.199265</td>\n",
       "      <td>5.000000</td>\n",
       "      <td>59862.092534</td>\n",
       "      <td>1.573003</td>\n",
       "      <td>0.707989</td>\n",
       "      <td>0.516988</td>\n",
       "      <td>100734.107475</td>\n",
       "      <td>0.212121</td>\n",
       "    </tr>\n",
       "    <tr>\n",
       "      <th>Male</th>\n",
       "      <td>5096.582853</td>\n",
       "      <td>650.992075</td>\n",
       "      <td>38.649135</td>\n",
       "      <td>5.057637</td>\n",
       "      <td>63352.833746</td>\n",
       "      <td>1.512968</td>\n",
       "      <td>0.684438</td>\n",
       "      <td>0.539625</td>\n",
       "      <td>98425.687680</td>\n",
       "      <td>0.131124</td>\n",
       "    </tr>\n",
       "  </tbody>\n",
       "</table>\n",
       "</div>"
      ],
      "text/plain": [
       "                    RowNumber  CreditScore        Age    Tenure  \\\n",
       "Geography Gender                                                  \n",
       "France    Female  4996.441840   649.185759  38.773994  4.950022   \n",
       "          Male    5048.870687   650.064657  38.296404  5.049401   \n",
       "Germany   Female  5004.213747   653.093881  40.154233  4.965633   \n",
       "          Male    4996.712006   649.966565  39.424772  5.050152   \n",
       "Spain     Female  4764.689624   651.769513  39.199265  5.000000   \n",
       "          Male    5096.582853   650.992075  38.649135  5.057637   \n",
       "\n",
       "                        Balance  NumOfProducts  HasCrCard  IsActiveMember  \\\n",
       "Geography Gender                                                            \n",
       "France    Female   60322.670159       1.547545   0.697921        0.513932   \n",
       "          Male     63546.284875       1.517254   0.713767        0.519070   \n",
       "Germany   Female  119145.966471       1.511316   0.706622        0.468567   \n",
       "          Male    120259.668222       1.527356   0.720365        0.523556   \n",
       "Spain     Female   59862.092534       1.573003   0.707989        0.516988   \n",
       "          Male     63352.833746       1.512968   0.684438        0.539625   \n",
       "\n",
       "                  EstimatedSalary    Exited  \n",
       "Geography Gender                             \n",
       "France    Female     99564.252755  0.203450  \n",
       "          Male      100174.252495  0.127134  \n",
       "Germany   Female    102446.424124  0.375524  \n",
       "          Male       99905.033959  0.278116  \n",
       "Spain     Female    100734.107475  0.212121  \n",
       "          Male       98425.687680  0.131124  "
      ]
     },
     "execution_count": 85,
     "metadata": {},
     "output_type": "execute_result"
    }
   ],
   "source": [
    "# Download the churn dataset from Kaggle: https://www.kaggle.com/datasets/shubh0799/churn-modelling?resource=download\n",
    "# 1) Use the .csv file and read it via pandas\n",
    "df = pd.read_csv(\"./Churn_Modelling.csv\")\n",
    "\n",
    "\n",
    "# 2) Print the columns of the pandas table\n",
    "print(df.columns)\n",
    "\n",
    "# 3) Drop the column customerid\n",
    "df.drop(columns=[\"CustomerId\"], inplace=True)\n",
    "\n",
    "# 4) Print the values for the columns 'Gender', 'Age', 'Tenure', 'Balance' only\n",
    "print(df[['Gender', 'Age', 'Tenure', 'Balance']])\n",
    "\n",
    "# 5) Return only the rows where Geography == 'France' and columns 'Gender', 'Age', 'Tenure', 'Balance'\n",
    "df[df[\"Geography\"] == \"France\"][['Gender', 'Age', 'Tenure', 'Balance']]\n",
    "\n",
    "# 6) Group by the columns 'Geography', and 'Gender' and use the mean function to aggregate the churn rate ('exited' column)\n",
    "df.groupby([\"Geography\", \"Gender\"]).mean(\"Exited\")"
   ]
  },
  {
   "cell_type": "markdown",
   "id": "40eaf39b",
   "metadata": {},
   "source": [
    "## SKlearn: [Scikit-learn](https://scikit-learn.org/stable/) [Quickstart](https://scikit-learn.org/stable/getting_started.html)"
   ]
  },
  {
   "cell_type": "code",
   "execution_count": 134,
   "id": "0c865139",
   "metadata": {},
   "outputs": [],
   "source": [
    "# We start the k nearest neighbor algorithm with sklearn\n",
    "from sklearn.neighbors import KNeighborsClassifier\n",
    "from sklearn.metrics import accuracy_score\n",
    "import matplotlib.pyplot as plt"
   ]
  },
  {
   "cell_type": "code",
   "execution_count": 132,
   "id": "f120bc8b",
   "metadata": {},
   "outputs": [
    {
     "data": {
      "text/plain": [
       "<matplotlib.collections.PathCollection at 0x249e0839a50>"
      ]
     },
     "execution_count": 132,
     "metadata": {},
     "output_type": "execute_result"
    },
    {
     "data": {
      "image/png": "[encoded data removed]",
      "text/plain": [
       "<Figure size 640x480 with 1 Axes>"
      ]
     },
     "metadata": {},
     "output_type": "display_data"
    }
   ],
   "source": [
    "# Use the following values and labels to calcualte the kNN\n",
    "X = np.arange(0, 9).reshape(9,1)\n",
    "y = [0, 0, 0, 1, 1, 1, 2, 2, 2]\n",
    "# we know that we have three clusters [0 to 2] has label 0; [3 to 5] has label 1; [6 to 8] has label 2\n",
    "\n",
    "plt.scatter(X, y, c=y, cmap=\"jet\")"
   ]
  },
  {
   "cell_type": "code",
   "execution_count": 152,
   "id": "41b09567",
   "metadata": {},
   "outputs": [
    {
     "data": {
      "text/plain": [
       "[]"
      ]
     },
     "execution_count": 152,
     "metadata": {},
     "output_type": "execute_result"
    },
    {
     "data": {
      "image/png": "[encoded data removed]",
      "text/plain": [
       "<Figure size 640x480 with 1 Axes>"
      ]
     },
     "metadata": {},
     "output_type": "display_data"
    }
   ],
   "source": [
    "# Start the KNN algorithm with the values above\n",
    "# YOUR CODE ...\n",
    "\n",
    "acc = {}\n",
    "for i in [x for x in range(len(X)) if x%2==1]:\n",
    "    model = KNeighborsClassifier(n_neighbors=i).fit(X, y)\n",
    "    acc[i] = accuracy_score(model.predict(X), y)\n",
    "\n",
    "plt.title(\"N_Neighbours vs Accuracy\")\n",
    "plt.plot(acc.keys(), acc.values())\n",
    "plt.xlabel(\"N-Neighbours\"), plt.ylabel(\"Accuracy\")\n",
    "plt.xticks(list(acc.keys()))\n",
    "plt.plot()"
   ]
  },
  {
   "cell_type": "code",
   "execution_count": 155,
   "id": "c3c95e65",
   "metadata": {},
   "outputs": [
    {
     "name": "stdout",
     "output_type": "stream",
     "text": [
      "Class prediction for X = 4: 1\n"
     ]
    }
   ],
   "source": [
    "model = KNeighborsClassifier(n_neighbors=i).fit(X, y)\n",
    "pred = model.predict([[4]])[0]\n",
    "print(f\"Class prediction for X = 4: {pred}\")"
   ]
  }
 ],
 "metadata": {
  "kernelspec": {
   "display_name": "Python 3 (ipykernel)",
   "language": "python",
   "name": "python3"
  },
  "language_info": {
   "codemirror_mode": {
    "name": "ipython",
    "version": 3
   },
   "file_extension": ".py",
   "mimetype": "text/x-python",
   "name": "python",
   "nbconvert_exporter": "python",
   "pygments_lexer": "ipython3",
   "version": "3.11.5"
  }
 },
 "nbformat": 4,
 "nbformat_minor": 5
}
