{
 "cells": [
  {
   "cell_type": "markdown",
   "id": "c6fb176d",
   "metadata": {},
   "source": [
    "# Stochastic Gradient Descent - Linear Regression"
   ]
  },
  {
   "cell_type": "raw",
   "id": "18d9da9a",
   "metadata": {},
   "source": [
    "Implement the Stochastic Gradient Descent (SGD) and update the weights of a linear regression model"
   ]
  },
  {
   "cell_type": "markdown",
   "id": "10609e29",
   "metadata": {},
   "source": [
    "## Data for the linear regression model"
   ]
  },
  {
   "cell_type": "raw",
   "id": "d1404413",
   "metadata": {},
   "source": [
    "Use the following data for the training and evaluation of your model"
   ]
  },
  {
   "cell_type": "code",
   "execution_count": 747,
   "id": "2731c87b",
   "metadata": {},
   "outputs": [],
   "source": [
    "import numpy as np\n",
    "import matplotlib.pyplot as plt"
   ]
  },
  {
   "cell_type": "code",
   "execution_count": 748,
   "id": "55d4b730",
   "metadata": {},
   "outputs": [],
   "source": [
    "# Data points\n",
    "data_amount = 15\n",
    "max_num = 10\n",
    "X = np.random.randint(max_num, size=(data_amount, 3))\n",
    "\n",
    "# We generate them by \"knowing\" the output weights for this example (this is not the case for real data!)\n",
    "final_weights = np.random.rand(X.shape[1])\n",
    "final_weights = final_weights / np.sum(final_weights)\n",
    "\n",
    "final_bias = 0.2\n",
    "\n",
    "# Corresponding labels\n",
    "random_noise = np.random.rand(X.shape[0]) / 7.5 # ranges from 0-1. We divide that by 7.5 to not get to much noise in here\n",
    "y = np.dot(final_weights, X.T) + final_bias + random_noise\n",
    "\n",
    "#print('data set X\\n', X)\n",
    "#print('labels y\\n', y)"
   ]
  },
  {
   "cell_type": "code",
   "execution_count": 749,
   "id": "3006104f",
   "metadata": {},
   "outputs": [
    {
     "data": {
      "text/plain": [
       "array([[2, 4, 8],\n",
       "       [3, 4, 9],\n",
       "       [4, 3, 7],\n",
       "       [9, 9, 1],\n",
       "       [5, 0, 5],\n",
       "       [2, 9, 7],\n",
       "       [8, 4, 9],\n",
       "       [2, 2, 2],\n",
       "       [8, 4, 1],\n",
       "       [7, 1, 1],\n",
       "       [3, 8, 7],\n",
       "       [0, 5, 2],\n",
       "       [8, 7, 0],\n",
       "       [8, 4, 4],\n",
       "       [5, 1, 5]])"
      ]
     },
     "execution_count": 749,
     "metadata": {},
     "output_type": "execute_result"
    }
   ],
   "source": [
    "# plt.plot(X,y)\n",
    "X"
   ]
  },
  {
   "cell_type": "markdown",
   "id": "daec3881",
   "metadata": {},
   "source": [
    "# Training and test data"
   ]
  },
  {
   "cell_type": "code",
   "execution_count": 750,
   "id": "a3b736c2",
   "metadata": {},
   "outputs": [],
   "source": [
    "train_len = int(data_amount * 0.75)\n",
    "\n",
    "# We train with the following data\n",
    "X_train = X[:train_len]\n",
    "y_train = y[:train_len]\n",
    "\n",
    "# We test / evaluate with the following data\n",
    "X_test = X[train_len:]\n",
    "y_test = y[train_len:]"
   ]
  },
  {
   "cell_type": "markdown",
   "id": "331bd43e",
   "metadata": {},
   "source": [
    "## Information about the model"
   ]
  },
  {
   "cell_type": "code",
   "execution_count": 751,
   "id": "29c436eb",
   "metadata": {},
   "outputs": [],
   "source": [
    "# We set the inital weights randomly\n",
    "weights = np.random.rand(X.shape[1])\n",
    "\n",
    "# The bias value is set to 1 initially\n",
    "bias = np.array([1])"
   ]
  },
  {
   "cell_type": "markdown",
   "id": "71627d25",
   "metadata": {},
   "source": [
    "### Some more information"
   ]
  },
  {
   "cell_type": "markdown",
   "id": "9e60e4ed",
   "metadata": {},
   "source": [
    "We know the regression equation:\n",
    "\n",
    "$y_{pred}= w_1x_1 + w_2x_2 + \\ldots + w_nx_n + b$"
   ]
  },
  {
   "cell_type": "code",
   "execution_count": 752,
   "id": "7f6c5abb",
   "metadata": {},
   "outputs": [
    {
     "name": "stdout",
     "output_type": "stream",
     "text": [
      "Outputs for our untrained model: [5.76536755 7.29454162 9.61269109 8.0398307 ]\n",
      "Outputs for the final model: [1.79365064 3.89783151 5.66715158 4.76369809]\n"
     ]
    }
   ],
   "source": [
    "# What are the current results of the untrained model?\n",
    "y_untrained = np.dot(weights, X_test.T) + bias\n",
    "print('Outputs for our untrained model:', y_untrained)\n",
    "\n",
    "# What are the results of the final model (that we want to achieve by updating the weights by the Stochastic gradient descent method)\n",
    "y_final = np.dot(final_weights, X_test.T) + final_bias\n",
    "print('Outputs for the final model:', y_final)"
   ]
  },
  {
   "cell_type": "markdown",
   "id": "39c3c815",
   "metadata": {},
   "source": [
    "### Loss function"
   ]
  },
  {
   "cell_type": "markdown",
   "id": "6e5958c9",
   "metadata": {},
   "source": [
    "We want to use the mean squarred error to calculate the loss for the model outputs which is defined as follows:\n",
    "\n",
    "$$MSE = \\frac{1}{n}\\sum_{i=1}^n (y_i-y_{i_{pred}})^2$$"
   ]
  },
  {
   "cell_type": "code",
   "execution_count": 753,
   "id": "d362b4e4",
   "metadata": {},
   "outputs": [],
   "source": [
    "mse = lambda y, y_pred: np.mean(np.sum((y-y_pred)**2))"
   ]
  },
  {
   "cell_type": "code",
   "execution_count": 754,
   "id": "c81268ef",
   "metadata": {},
   "outputs": [
    {
     "name": "stdout",
     "output_type": "stream",
     "text": [
      "The loss of the untrained model is: 52.508733106896\n",
      "The loss of the final model is: 0.007930060869604577\n"
     ]
    }
   ],
   "source": [
    "# In our example the loss for our untrained model is:\n",
    "loss_untrained = mse(y_test, y_untrained)\n",
    "print('The loss of the untrained model is:', loss_untrained)\n",
    "\n",
    "# Loss for the final model\n",
    "loss_final = mse(y_test, y_final)\n",
    "print('The loss of the final model is:', loss_final)"
   ]
  },
  {
   "cell_type": "markdown",
   "id": "a2854ef6",
   "metadata": {},
   "source": [
    "## Your stochastic gradient descent implementation to optimize the weights of your model"
   ]
  },
  {
   "cell_type": "code",
   "execution_count": 755,
   "id": "decf2db5",
   "metadata": {},
   "outputs": [],
   "source": [
    "# Summary on what we know so far:\n",
    "\n",
    "# We know the loss function: Variable 'mse' (Mean squared error)\n",
    "# We know the initial weights that we want to optimize: variable 'weights'\n",
    "# We know the initial bias value: variable 'bias'"
   ]
  },
  {
   "cell_type": "code",
   "execution_count": 756,
   "id": "c87ab9df",
   "metadata": {},
   "outputs": [],
   "source": [
    "# Use the training data to optimize the weights of the linear regression model\n",
    "\n",
    "# use these variables for your sgd implementation\n",
    "learning_rate = 0.005\n",
    "iterations = 1000\n",
    "\n",
    "# YOUR CODE FOR THE STOCHASTIC GRADIENT DESCENT IMPLEMENTATION"
   ]
  },
  {
   "cell_type": "markdown",
   "id": "167a03ff",
   "metadata": {},
   "source": [
    "## Stochastic"
   ]
  },
  {
   "cell_type": "code",
   "execution_count": 757,
   "id": "6cbb0845",
   "metadata": {},
   "outputs": [],
   "source": [
    "class MLR:\n",
    "    learning_rate = 0.005\n",
    "    X_train, Y_train = None, None\n",
    "    \n",
    "    def __init__(self, learning_rate: float) -> None:\n",
    "        self.learning_rate = learning_rate\n",
    "        return None\n",
    "    \n",
    "    def fit(self, X_train: np.ndarray, y_train: np.ndarray, epochs: int):\n",
    "        self.X_train, self.Y_train = X_train, y_train\n",
    "        return self.SGD(epochs=epochs)\n",
    "    \n",
    "    def SGD(self, epochs: int) -> np.ndarray:\n",
    "        n_samples, n_features = self.X_train.shape\n",
    "        coeffs = np.random.rand(n_features)\n",
    "        bias = np.random.rand()\n",
    "\n",
    "        # perform operation for all epochs\n",
    "        for i in range(epochs):\n",
    "            y_pred = np.dot(self.X_train, coeffs) + bias\n",
    "            # error = np.log(((y_pred - self.Y_train)**2)) / n_samples\n",
    "            error = y_pred - self.Y_train\n",
    "\n",
    "            # update weights\n",
    "            dw = -(2/n_samples) * np.dot(X_train.T, error)\n",
    "            # update bias\n",
    "            db = -(2/n_samples) * np.sum(error)\n",
    "\n",
    "            coeffs += self.learning_rate * dw\n",
    "            bias += self.learning_rate * db\n",
    "        \n",
    "        return coeffs, bias"
   ]
  },
  {
   "cell_type": "code",
   "execution_count": 758,
   "id": "f1457cae",
   "metadata": {},
   "outputs": [
    {
     "data": {
      "text/plain": [
       "(array([0.37405222, 0.10586693, 0.53279039]), 0.182546900807173)"
      ]
     },
     "execution_count": 758,
     "metadata": {},
     "output_type": "execute_result"
    }
   ],
   "source": [
    "model = MLR(learning_rate=learning_rate)\n",
    "coeffs, bias = model.fit(X_train=np.array(X_train), y_train=np.array(y_train), epochs=iterations)\n",
    "coeffs, bias"
   ]
  },
  {
   "cell_type": "code",
   "execution_count": 759,
   "id": "32659fdb",
   "metadata": {},
   "outputs": [
    {
     "data": {
      "text/plain": [
       "(array([0.3667879 , 0.10907548, 0.52413663]), 0.2)"
      ]
     },
     "execution_count": 759,
     "metadata": {},
     "output_type": "execute_result"
    }
   ],
   "source": [
    "final_weights, final_bias"
   ]
  },
  {
   "cell_type": "markdown",
   "id": "eda1a991",
   "metadata": {},
   "source": [
    "## Compare the results with the Test data"
   ]
  },
  {
   "cell_type": "code",
   "execution_count": 760,
   "id": "607bfcec",
   "metadata": {},
   "outputs": [
    {
     "name": "stdout",
     "output_type": "stream",
     "text": [
      "MSE: 0.004947134196757129\n"
     ]
    }
   ],
   "source": [
    "y_pred = np.dot(coeffs, X_test.T) + bias\n",
    "y_actual = np.dot(final_weights, X_test.T) + final_bias\n",
    "\n",
    "print(f\"MSE: {mse(y_pred, y_test)}\")"
   ]
  }
 ],
 "metadata": {
  "kernelspec": {
   "display_name": "Python 3 (ipykernel)",
   "language": "python",
   "name": "python3"
  },
  "language_info": {
   "codemirror_mode": {
    "name": "ipython",
    "version": 3
   },
   "file_extension": ".py",
   "mimetype": "text/x-python",
   "name": "python",
   "nbconvert_exporter": "python",
   "pygments_lexer": "ipython3",
   "version": "3.11.5"
  }
 },
 "nbformat": 4,
 "nbformat_minor": 5
}
