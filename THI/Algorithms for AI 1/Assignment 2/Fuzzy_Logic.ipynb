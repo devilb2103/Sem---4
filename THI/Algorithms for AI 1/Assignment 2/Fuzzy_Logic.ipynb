{
 "cells": [
  {
   "cell_type": "markdown",
   "id": "24c4a7a6",
   "metadata": {},
   "source": [
    "# Fuzzy logic task"
   ]
  },
  {
   "cell_type": "markdown",
   "id": "79e404b2",
   "metadata": {},
   "source": [
    "Define a fuzzy controller for a distance to stop system for cars.\n",
    "\n",
    "Also define the functions for each input, e. g. $$f_{light}(x) = min(2x, 1)$$\n",
    "Write everything with Python code and visualize your results!\n",
    "You can alternatively visualize it on paper.\n",
    "Use center of gravity to calculate the final result.\n",
    "\n",
    "The following information is provided:"
   ]
  },
  {
   "cell_type": "markdown",
   "id": "ebedee20",
   "metadata": {},
   "source": [
    "#### Imports"
   ]
  },
  {
   "cell_type": "code",
   "execution_count": 61,
   "id": "afdd673e",
   "metadata": {},
   "outputs": [],
   "source": [
    "import matplotlib.pyplot as plt\n",
    "import numpy as np"
   ]
  },
  {
   "cell_type": "markdown",
   "id": "7db38d93",
   "metadata": {},
   "source": [
    "#### Rule Definitions"
   ]
  },
  {
   "cell_type": "code",
   "execution_count": 62,
   "id": "caf5a241",
   "metadata": {},
   "outputs": [],
   "source": [
    "# speed_states = [1,2,3]\n",
    "# weight_states = [1,2,3]\n",
    "# distance_states = [1,2,3,4,5]\n",
    "\n",
    "def distance_rule(speed: int, weight: int) -> int:\n",
    "    if(speed == 1 and weight == 1):\n",
    "        return 1\n",
    "    elif(speed == 1 and weight == 2):\n",
    "        return 2\n",
    "    elif(speed == 1 and weight == 3):\n",
    "        return 3\n",
    "    elif(speed == 2 and weight == 1):\n",
    "        return 2\n",
    "    elif(speed == 2 and weight == 2):\n",
    "        return 3\n",
    "    elif(speed == 2 and weight == 3):\n",
    "        return 4\n",
    "    elif(speed == 3 and weight == 1):\n",
    "        return 3\n",
    "    elif(speed == 3 and weight == 2):\n",
    "        return 4\n",
    "    elif(speed == 3 and weight == 3):\n",
    "        return 5"
   ]
  },
  {
   "cell_type": "markdown",
   "id": "864c5e25",
   "metadata": {},
   "source": [
    "## Inputs"
   ]
  },
  {
   "cell_type": "markdown",
   "id": "707d9299",
   "metadata": {},
   "source": [
    "### 1. Speed of vehicle\n",
    "#### Set of terms\n",
    "- slow\n",
    "- medium\n",
    "- fast\n",
    "\n",
    "\n",
    "The terms are in range [0, 100]"
   ]
  },
  {
   "cell_type": "markdown",
   "id": "6d6df638",
   "metadata": {},
   "source": [
    "### 2. (Own) Car weight\n",
    "\n",
    "#### Set of terms\n",
    "- light\n",
    "- medium\n",
    "- heavy\n",
    "\n",
    "The terms are in range [0, 100]"
   ]
  },
  {
   "cell_type": "markdown",
   "id": "7a84c8a8",
   "metadata": {},
   "source": [
    "## Output\n",
    "\n",
    "## Distance to full stop\n",
    "\n",
    "#### Set of terms\n",
    "- very low\n",
    "- low\n",
    "- medium\n",
    "- high\n",
    "- very high \n",
    "\n",
    "The terms are in range [0, 3] $\\times 10$ meters"
   ]
  },
  {
   "cell_type": "markdown",
   "id": "afc47a5e",
   "metadata": {},
   "source": [
    "## Inference rules"
   ]
  },
  {
   "cell_type": "markdown",
   "id": "f1e6da6c",
   "metadata": {},
   "source": [
    "| Id \t| Speed \t| Car weight \t| Distance \t|\n",
    "|:---:\t|:---:\t|:---:\t|:---:\t|\n",
    "| 1 \t| slow \t| light \t| very low \t|\n",
    "| 2 \t| slow \t| medium \t| low \t|\n",
    "| 3 \t| slow \t| heavy \t| medium \t|\n",
    "| 4 \t| medium \t| light \t| low \t|\n",
    "| 5 \t| medium \t| medium \t| medium \t|\n",
    "| 6 \t| medium \t| heavy \t| high \t|\n",
    "| 7 \t| fast \t| light \t| medium \t|\n",
    "| 8 \t| fast \t| medium \t| high \t|\n",
    "| 9 \t| fast\t| heavy \t| very high \t|"
   ]
  },
  {
   "cell_type": "markdown",
   "id": "e2a32393",
   "metadata": {},
   "source": [
    "## Question"
   ]
  },
  {
   "cell_type": "markdown",
   "id": "43fcaba0",
   "metadata": {},
   "source": [
    "Calculate the distance for\n",
    "\n",
    "1) Speed = 30\n",
    "\n",
    "2) Car weight = 60"
   ]
  },
  {
   "cell_type": "code",
   "execution_count": 63,
   "id": "f10447f6",
   "metadata": {},
   "outputs": [],
   "source": [
    "# fuzzy curve calculator\n",
    "class fuzzyCurveCalculator:\n",
    "    def __init__(self, prev_state_val, curr_state_val, next_state_val) -> None:\n",
    "        self.prev_state_val = prev_state_val\n",
    "        self.curr_state_val = curr_state_val\n",
    "        self.next_state_val = next_state_val\n",
    "\n",
    "    def get_value(self, x: float) -> float:\n",
    "        if(x < self.curr_state_val and self.prev_state_val != None):\n",
    "            return (x - self.prev_state_val) / (self.curr_state_val - self.prev_state_val)\n",
    "        elif(x > self.curr_state_val and self.next_state_val != None):\n",
    "            return 1 - ((x - self.curr_state_val) / (self.next_state_val - self.curr_state_val)) \n",
    "        elif(x == self.curr_state_val):\n",
    "            return 1\n",
    "        else: return None"
   ]
  },
  {
   "cell_type": "code",
   "execution_count": 77,
   "id": "faccb108",
   "metadata": {},
   "outputs": [],
   "source": [
    "speed_ranges = [0, 50, 100]\n",
    "weight_ranges = [0, 50, 100]\n",
    "distance_ranges = [0, 0.75, 1.5, 2.25, 3]\n",
    "\n",
    "speed_rules = [None] * len(speed_ranges)\n",
    "weight_rules = [None] * len(weight_ranges)\n",
    "\n",
    "# generate curveCalculator instance for each fuzzy semantic  \n",
    "\n",
    "# generate speed semantic rule\n",
    "for i in range(len(speed_ranges)):\n",
    "    prev_state_val, curr_state_val, next_state_val = None, None, None\n",
    "    \n",
    "    curr_state_val = speed_ranges[i]\n",
    "    if(i == 0):\n",
    "        next_state_val = speed_ranges[i+1]\n",
    "    elif(i == len(speed_ranges) - 1):\n",
    "        prev_state_val = speed_ranges[i-1]\n",
    "    else:\n",
    "        next_state_val = speed_ranges[i+1]\n",
    "        prev_state_val = speed_ranges[i-1]\n",
    "    \n",
    "    speed_rules[i] = fuzzyCurveCalculator(prev_state_val, curr_state_val, next_state_val)\n",
    "\n",
    "\n",
    "# generate weight semantic rule\n",
    "for i in range(len(weight_ranges)):\n",
    "    prev_state_val, curr_state_val, next_state_val = None, None, None\n",
    "    \n",
    "    curr_state_val = weight_ranges[i]\n",
    "    if(i == 0):\n",
    "        next_state_val = weight_ranges[i+1]\n",
    "    elif(i == len(weight_ranges) - 1):\n",
    "        prev_state_val = weight_ranges[i-1]\n",
    "    else:\n",
    "        next_state_val = weight_ranges[i+1]\n",
    "        prev_state_val = weight_ranges[i-1]\n",
    "    \n",
    "    weight_rules[i] = fuzzyCurveCalculator(prev_state_val, curr_state_val, next_state_val)"
   ]
  },
  {
   "cell_type": "markdown",
   "id": "0c39464d",
   "metadata": {},
   "source": [
    "# Task 2 (Research)"
   ]
  },
  {
   "cell_type": "markdown",
   "id": "30706b53",
   "metadata": {},
   "source": [
    "Try out NumPy: [NumPy](https://numpy.org/) [Quickstart](https://numpy.org/devdocs/user/quickstart.html)\n",
    "\n",
    "Try out Pandas: [Pandas](https://pandas.pydata.org/) [Quickstart](https://pandas.pydata.org/docs/getting_started/intro_tutorials/index.html)\n",
    "\n",
    "Try out SKlearn: [Scikit-learn](https://scikit-learn.org/stable/) [Quickstart](https://scikit-learn.org/stable/getting_started.html)"
   ]
  },
  {
   "cell_type": "markdown",
   "id": "a61d8697",
   "metadata": {},
   "source": [
    "We will use the packages mentioned above in the next practical sessions. Familiarize yourself with the mentioned packages."
   ]
  },
  {
   "cell_type": "code",
   "execution_count": null,
   "id": "d5c346bc",
   "metadata": {},
   "outputs": [],
   "source": []
  }
 ],
 "metadata": {
  "kernelspec": {
   "display_name": "Python 3 (ipykernel)",
   "language": "python",
   "name": "python3"
  },
  "language_info": {
   "codemirror_mode": {
    "name": "ipython",
    "version": 3
   },
   "file_extension": ".py",
   "mimetype": "text/x-python",
   "name": "python",
   "nbconvert_exporter": "python",
   "pygments_lexer": "ipython3",
   "version": "3.12.0"
  }
 },
 "nbformat": 4,
 "nbformat_minor": 5
}
